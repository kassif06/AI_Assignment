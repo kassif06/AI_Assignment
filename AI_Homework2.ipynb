{
  "nbformat": 4,
  "nbformat_minor": 0,
  "metadata": {
    "colab": {
      "name": "AI_Homework2.ipynb",
      "provenance": [],
      "authorship_tag": "ABX9TyNQgXbd5Eni0Aj7Pl5QJRfZ",
      "include_colab_link": true
    },
    "kernelspec": {
      "name": "python3",
      "display_name": "Python 3"
    },
    "language_info": {
      "name": "python"
    }
  },
  "cells": [
    {
      "cell_type": "markdown",
      "metadata": {
        "id": "view-in-github",
        "colab_type": "text"
      },
      "source": [
        "<a href=\"https://colab.research.google.com/github/kassif06/AI_Assignment/blob/main/AI_Homework2.ipynb\" target=\"_parent\"><img src=\"https://colab.research.google.com/assets/colab-badge.svg\" alt=\"Open In Colab\"/></a>"
      ]
    },
    {
      "cell_type": "code",
      "execution_count": 1,
      "metadata": {
        "id": "zSM9qN74xHVo"
      },
      "outputs": [],
      "source": [
        "import matplotlib.pyplot as plt\n",
        "import numpy as np\n",
        "import pandas as pd\n",
        "from matplotlib import style\n",
        "from math import sqrt as squareroot\n",
        "import seaborn as sns"
      ]
    },
    {
      "cell_type": "code",
      "source": [
        "# toy dataset creation \n",
        "X = np.array([[2, 4],\n",
        "              [1.7, 2.8],\n",
        "              [7, 8],\n",
        "              [8.6, 8],\n",
        "              [3.4, 1.5],\n",
        "              [9,11]])\n",
        "\n",
        "plt.scatter(X[:,0], X[:,1], s=150)\n",
        "plt.show()"
      ],
      "metadata": {
        "colab": {
          "base_uri": "https://localhost:8080/",
          "height": 265
        },
        "id": "UrsdZfBj0GcR",
        "outputId": "dffd7525-04f3-42b3-bb8f-e2622aef680a"
      },
      "execution_count": 2,
      "outputs": [
        {
          "output_type": "display_data",
          "data": {
            "text/plain": [
              "<Figure size 432x288 with 1 Axes>"
            ],
            "image/png": "[encoded data removed]"
          },
          "metadata": {
            "needs_background": "light"
          }
        }
      ]
    },
    {
      "cell_type": "code",
      "source": [
        "def centroids_initialization(k, x):\n",
        "\n",
        "    # set the dimmentions of the x\n",
        "    n_dims = x.shape[1]\n",
        "    min_centroid = x.min().min()\n",
        "    max_centroid = x.max().max()\n",
        "    centroids = []\n",
        "\n",
        "    for centroid in range(k):\n",
        "        centroid = np.random.uniform(min_centroid, max_centroid, n_dims)\n",
        "        centroids.append(centroid)\n",
        "\n",
        "    centroids = np.array(centroids)\n",
        "\n",
        "    return centroids\n",
        "\n"
      ],
      "metadata": {
        "id": "JuunJBap0c5g"
      },
      "execution_count": 3,
      "outputs": []
    },
    {
      "cell_type": "code",
      "source": [
        "# Centroid initialization \n",
        "centroids = centroids_initialization(2, X)\n",
        "print (centroids)"
      ],
      "metadata": {
        "colab": {
          "base_uri": "https://localhost:8080/"
        },
        "id": "ILpE4RBp1Gbx",
        "outputId": "dc8fdcd7-5766-499c-d5e9-e4640ce74ebd"
      },
      "execution_count": 4,
      "outputs": [
        {
          "output_type": "stream",
          "name": "stdout",
          "text": [
            "[[ 5.06330204  2.9764132 ]\n",
            " [10.89840393 10.01113534]]\n"
          ]
        }
      ]
    },
    {
      "cell_type": "code",
      "source": [
        "# Getting the ecludian distance\n",
        "def euclidean_distance(p, q):\n",
        "    # Euclidean distance (l2 norm)\n",
        "    # 2-d scenario: square root \n",
        "    distance = squareroot(sum((q-p)**2))\n",
        "    return distance"
      ],
      "metadata": {
        "id": "hXY5ouC8xQlw"
      },
      "execution_count": 5,
      "outputs": []
    },
    {
      "cell_type": "code",
      "source": [
        "# comparing distances to centroids \n",
        "def closestCentroid(x, centroids):\n",
        "    assignments = []\n",
        "    for i in x:\n",
        "        # distance between one data point and centroids\n",
        "        distance=[]\n",
        "        for j in centroids:\n",
        "            distance.append(euclidean_distance(i, j))\n",
        "            # assign each data point to the cluster with closest centroid\n",
        "        assignments.append(np.argmin(distance))\n",
        "    return np.array(assignments)"
      ],
      "metadata": {
        "id": "JRiprtCQxRUb"
      },
      "execution_count": 6,
      "outputs": []
    },
    {
      "cell_type": "code",
      "source": [
        "# Updatating the centroids\n",
        "def updateCentroid(x, clusters, K):\n",
        "    new_centroids = []\n",
        "    for c in range(K):\n",
        "        # Update the cluster centroid with the average of all points in this cluster\n",
        "        cluster_mean = x[clusters == c].mean(axis=0)\n",
        "        new_centroids.append(cluster_mean)\n",
        "    return new_centroids"
      ],
      "metadata": {
        "id": "kCkq7hp1xTVH"
      },
      "execution_count": 10,
      "outputs": []
    },
    {
      "cell_type": "code",
      "source": [
        "# K-mean fuction to classify \n",
        "def kmeans(x, K):\n",
        "    # initialize the centroids of 2 clusters with the initialization function\n",
        "    centroids = centroids_initialization(2, X)\n",
        "    print('Initialized centroids: {}'.format(centroids))\n",
        "    for i in range(20):\n",
        "        clusters = closestCentroid(x, centroids)\n",
        "        centroids = updateCentroid(x, clusters, K)\n",
        "        print('Iteration: {}, Centroids: {}'.format(i, centroids))\n",
        "    return centroids,clusters"
      ],
      "metadata": {
        "id": "G6uuuaOBxYwQ"
      },
      "execution_count": 8,
      "outputs": []
    },
    {
      "cell_type": "code",
      "source": [
        "K = 2\n",
        "\n",
        "centroids,clusters = kmeans(X, K)"
      ],
      "metadata": {
        "colab": {
          "base_uri": "https://localhost:8080/"
        },
        "id": "MRmU1-pY1fJ7",
        "outputId": "adbfd67a-b92e-42c7-8936-a6031f236b78"
      },
      "execution_count": 11,
      "outputs": [
        {
          "output_type": "stream",
          "name": "stdout",
          "text": [
            "Initialized centroids: [[2.56324499 5.11426121]\n",
            " [7.57881313 7.80600544]]\n",
            "Iteration: 0, Centroids: [array([2.36666667, 2.76666667]), array([8.2, 9. ])]\n",
            "Iteration: 1, Centroids: [array([2.36666667, 2.76666667]), array([8.2, 9. ])]\n",
            "Iteration: 2, Centroids: [array([2.36666667, 2.76666667]), array([8.2, 9. ])]\n",
            "Iteration: 3, Centroids: [array([2.36666667, 2.76666667]), array([8.2, 9. ])]\n",
            "Iteration: 4, Centroids: [array([2.36666667, 2.76666667]), array([8.2, 9. ])]\n",
            "Iteration: 5, Centroids: [array([2.36666667, 2.76666667]), array([8.2, 9. ])]\n",
            "Iteration: 6, Centroids: [array([2.36666667, 2.76666667]), array([8.2, 9. ])]\n",
            "Iteration: 7, Centroids: [array([2.36666667, 2.76666667]), array([8.2, 9. ])]\n",
            "Iteration: 8, Centroids: [array([2.36666667, 2.76666667]), array([8.2, 9. ])]\n",
            "Iteration: 9, Centroids: [array([2.36666667, 2.76666667]), array([8.2, 9. ])]\n",
            "Iteration: 10, Centroids: [array([2.36666667, 2.76666667]), array([8.2, 9. ])]\n",
            "Iteration: 11, Centroids: [array([2.36666667, 2.76666667]), array([8.2, 9. ])]\n",
            "Iteration: 12, Centroids: [array([2.36666667, 2.76666667]), array([8.2, 9. ])]\n",
            "Iteration: 13, Centroids: [array([2.36666667, 2.76666667]), array([8.2, 9. ])]\n",
            "Iteration: 14, Centroids: [array([2.36666667, 2.76666667]), array([8.2, 9. ])]\n",
            "Iteration: 15, Centroids: [array([2.36666667, 2.76666667]), array([8.2, 9. ])]\n",
            "Iteration: 16, Centroids: [array([2.36666667, 2.76666667]), array([8.2, 9. ])]\n",
            "Iteration: 17, Centroids: [array([2.36666667, 2.76666667]), array([8.2, 9. ])]\n",
            "Iteration: 18, Centroids: [array([2.36666667, 2.76666667]), array([8.2, 9. ])]\n",
            "Iteration: 19, Centroids: [array([2.36666667, 2.76666667]), array([8.2, 9. ])]\n"
          ]
        }
      ]
    },
    {
      "cell_type": "code",
      "source": [
        "# transform the results to an np array for visualization\n",
        "clusters = np.array(clusters)\n",
        "centroids = np.array(centroids)"
      ],
      "metadata": {
        "id": "VK0z77yp-dSQ"
      },
      "execution_count": 12,
      "outputs": []
    },
    {
      "cell_type": "code",
      "source": [
        "clo=[\"blue\",\"yellow\"]\n",
        "for i in range(len(clusters)) : \n",
        "    for j in range(K):\n",
        "        if j==clusters[i]:\n",
        "            plt.scatter(X[i,0], X[i,1],color=clo[j], s=150)\n",
        "            plt.scatter(centroids[j,0], centroids[j,1],color=clo[j], s=300)\n",
        "plt.show() "
      ],
      "metadata": {
        "colab": {
          "base_uri": "https://localhost:8080/",
          "height": 265
        },
        "id": "g7ieL8QN_HYE",
        "outputId": "aeb5e635-6308-4574-a5b0-fba47ed51d65"
      },
      "execution_count": 13,
      "outputs": [
        {
          "output_type": "display_data",
          "data": {
            "text/plain": [
              "<Figure size 432x288 with 1 Axes>"
            ],
            "image/png": "[encoded data removed]"
          },
          "metadata": {
            "needs_background": "light"
          }
        }
      ]
    },
    {
      "cell_type": "code",
      "source": [
        ""
      ],
      "metadata": {
        "id": "AtZc3zViCgpN"
      },
      "execution_count": 13,
      "outputs": []
    }
  ]
}